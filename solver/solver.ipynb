{
 "cells": [
  {
   "cell_type": "code",
   "execution_count": 189,
   "metadata": {},
   "outputs": [],
   "source": [
    "import json\n",
    "import requests"
   ]
  },
  {
   "cell_type": "code",
   "execution_count": 199,
   "metadata": {},
   "outputs": [],
   "source": [
    "url = 'http://127.0.0.1:8000/tasksJSON/'\n",
    "f = requests.get(url)\n",
    "json_data = f.json()"
   ]
  },
  {
   "cell_type": "code",
   "execution_count": 200,
   "metadata": {},
   "outputs": [],
   "source": [
    "class Lane:\n",
    "    def __init__(self, name, length):\n",
    "        self.id = name\n",
    "        self.length = length\n",
    "        self.jobs = {}\n",
    "        self.free_spaces = [(0,self.length)]\n",
    "        self.remaining = self.length\n",
    "    \n",
    "    def findFit(self, win_start, win_end, job_len):\n",
    "        position = (win_start, win_start+job_len)\n",
    "        fits = []\n",
    "        space = (0,0)\n",
    "        for s in self.free_spaces:\n",
    "            not_done = True\n",
    "            if position[1]<s[0]:\n",
    "                continue\n",
    "                \n",
    "            if position[0]>s[1]:\n",
    "                continue\n",
    "            \n",
    "            while not_done:               \n",
    "                if s[0] <= position[0] and s[1] >= position[1]:\n",
    "                    not_done = False\n",
    "                    fits.append(position)\n",
    "                    space = s\n",
    "\n",
    "                elif position[1] == win_end:\n",
    "                    not_done = False \n",
    "                    position = (win_start, win_start+job_len)\n",
    "                    \n",
    "                else:    \n",
    "                    position += (1,1)\n",
    "           \n",
    "        if len(fits) == 0:\n",
    "            return -1 \n",
    "        \n",
    "        else:\n",
    "            return fits[0], space\n",
    "                    \n",
    "    \n",
    "    # splits the empty space in the lane into seperate pieces \n",
    "    def splitLane(self, _start, _end, space):\n",
    "        if space[0] != _start:\n",
    "            self.free_spaces.append((space[0], _start))\n",
    "            \n",
    "        if space[1] != _end: \n",
    "            self.free_spaces.append((_end, space[1]))\n",
    "            \n",
    "        self.free_spaces.remove(space)\n",
    "        \n",
    "    \n",
    "    def add_job(self, job):\n",
    "        try:\n",
    "            (_space, _old) = self.findFit(job['least_start'], job['max_end'], job['length'])\n",
    "            _start = _space[0]\n",
    "            _end = _start + job['length']\n",
    "            self.jobs[job['id']] = {'Position': (_start, _end)}\n",
    "            self.splitLane(_start, _end, _old)\n",
    "            print(\"Job: %s\" % job['id'])\n",
    "            print(\"Job Length: %s\" % job['length'])\n",
    "            print(\"Job Window: %s\" % job['least_start'], job['max_end'])\n",
    "            print(\"Job Placed between: %s\" % _start, _end)\n",
    "            print(\"Free Spaces: %s\" % self.free_spaces)\n",
    "            print(\"_______________________________________________________________________\")\n",
    "        except TypeError:\n",
    "            return -1\n",
    "        \n",
    "        self.remaining -= job['length']\n",
    "\n",
    "        \n",
    "        \n",
    "    def __eq__(self,other):\n",
    "        return self.remaining == other.remaining\n",
    "    \n",
    "    def __lt__(self,other):\n",
    "        return self.remaining < other.remaining\n",
    "    \n",
    "    def __gt__(self,other):\n",
    "        return self.remaining > other.remaining\n",
    "        \n",
    "    def __str__(self):\n",
    "        return '(jobs=%s, remaining=%s)' % (str(self.jobs), self.remaining)"
   ]
  },
  {
   "cell_type": "code",
   "execution_count": 201,
   "metadata": {},
   "outputs": [],
   "source": [
    "class laneList(object):\n",
    "    def __init__(self, lane_size):\n",
    "        self.lane_size = lane_size\n",
    "        self.lanes = []\n",
    "        self.numLanes = 0\n",
    "        self.extra = 0\n",
    "        \n",
    "        \n",
    "    def add_lane(self):\n",
    "        self.lanes.append(Lane(self.numLanes+1, self.lane_size))\n",
    "        self.numLanes = len(self.lanes)\n",
    "        self.lanes = sorted(self.lanes)\n",
    "        \n",
    "        \n",
    "    def get_extra(self):\n",
    "        self.extra = 0\n",
    "        for i in range(self.numLanes):\n",
    "            self.extra += self.lanes[i].remaining\n",
    "          \n",
    "        \n",
    "    def FF(self, job):\n",
    "        current = 0\n",
    "        not_done = True\n",
    "        \n",
    "        while not_done: \n",
    "            if len(self.lanes) == 0:\n",
    "                self.add_lane()\n",
    "            \n",
    "            try:\n",
    "                if self.lanes[current].add_job(job) != -1:\n",
    "                    not_done = False \n",
    "                    self.get_extra()\n",
    "                    break\n",
    "                    return 0 \n",
    "\n",
    "                else:\n",
    "                    current += 1\n",
    "                    \n",
    "            except IndexError:\n",
    "                self.add_lane()\n",
    "            \n",
    "    \n",
    "    def __str__(self):\n",
    "        if self.numLanes != 0:\n",
    "            for lane in self.lanes:\n",
    "                print(lane)\n",
    "            return 'Number of Lanes: %s, Free Space: %s' %(self.numLanes, self.extra)\n",
    "        else: \n",
    "            return 'No Lanes'"
   ]
  },
  {
   "cell_type": "code",
   "execution_count": 202,
   "metadata": {},
   "outputs": [],
   "source": [
    "jobs = []\n",
    "fixed_jobs = []\n",
    "for task in json_data: \n",
    "    if task['fixed'] == True:\n",
    "        fixed_jobs.append(task)\n",
    "    else: \n",
    "        jobs.append(task)"
   ]
  },
  {
   "cell_type": "code",
   "execution_count": 203,
   "metadata": {},
   "outputs": [],
   "source": [
    "lanes = laneList(100)"
   ]
  },
  {
   "cell_type": "code",
   "execution_count": 204,
   "metadata": {
    "scrolled": false
   },
   "outputs": [
    {
     "name": "stdout",
     "output_type": "stream",
     "text": [
      "Job: 103\n",
      "Job Length: 40\n",
      "Job Window: 0 40\n",
      "Job Placed between: 0 40\n",
      "Free Spaces: [(40, 100)]\n",
      "_______________________________________________________________________\n",
      "Job: 104\n",
      "Job Length: 15\n",
      "Job Window: 40 45\n",
      "Job Placed between: 40 55\n",
      "Free Spaces: [(55, 100)]\n",
      "_______________________________________________________________________\n",
      "Job: 105\n",
      "Job Length: 15\n",
      "Job Window: 55 70\n",
      "Job Placed between: 55 70\n",
      "Free Spaces: [(70, 100)]\n",
      "_______________________________________________________________________\n",
      "Job: 106\n",
      "Job Length: 15\n",
      "Job Window: 0 15\n",
      "Job Placed between: 0 15\n",
      "Free Spaces: [(15, 100)]\n",
      "_______________________________________________________________________\n",
      "(jobs={103: {'Position': (0, 40)}, 104: {'Position': (40, 55)}, 105: {'Position': (55, 70)}}, remaining=30)\n",
      "(jobs={106: {'Position': (0, 15)}}, remaining=85)\n",
      "Number of Lanes: 2, Free Space: 115\n"
     ]
    }
   ],
   "source": [
    "for job in fixed_jobs:\n",
    "    lanes.FF(job)\n",
    "for job in jobs: \n",
    "    lanes.FF(job)\n",
    "print(lanes)"
   ]
  },
  {
   "cell_type": "code",
   "execution_count": 196,
   "metadata": {},
   "outputs": [
    {
     "name": "stdout",
     "output_type": "stream",
     "text": [
      "{99: {'Position': (0, 40)}, 101: {'Position': (55, 70)}}\n",
      "{100: {'Position': (30, 45)}, 102: {'Position': (0, 15)}}\n"
     ]
    }
   ],
   "source": [
    "lane_list = {}\n",
    "for lane in lanes.lanes:\n",
    "    lane_list[lane.id] = lane.jobs\n",
    "    print(lane.jobs)"
   ]
  },
  {
   "cell_type": "code",
   "execution_count": 197,
   "metadata": {},
   "outputs": [
    {
     "data": {
      "text/plain": [
       "{1: {99: {'Position': (0, 40)}, 101: {'Position': (55, 70)}},\n",
       " 2: {100: {'Position': (30, 45)}, 102: {'Position': (0, 15)}}}"
      ]
     },
     "execution_count": 197,
     "metadata": {},
     "output_type": "execute_result"
    }
   ],
   "source": [
    "lane_list"
   ]
  },
  {
   "cell_type": "code",
   "execution_count": 198,
   "metadata": {},
   "outputs": [
    {
     "name": "stdout",
     "output_type": "stream",
     "text": [
      "{\n",
      "  \"1\": {\n",
      "    \"99\": {\n",
      "      \"Position\": [\n",
      "        0,\n",
      "        40\n",
      "      ]\n",
      "    },\n",
      "    \"101\": {\n",
      "      \"Position\": [\n",
      "        55,\n",
      "        70\n",
      "      ]\n",
      "    }\n",
      "  },\n",
      "  \"2\": {\n",
      "    \"100\": {\n",
      "      \"Position\": [\n",
      "        30,\n",
      "        45\n",
      "      ]\n",
      "    },\n",
      "    \"102\": {\n",
      "      \"Position\": [\n",
      "        0,\n",
      "        15\n",
      "      ]\n",
      "    }\n",
      "  }\n",
      "}\n"
     ]
    }
   ],
   "source": [
    "print(json.dumps(lane_list, indent=2))"
   ]
  },
  {
   "cell_type": "code",
   "execution_count": 102,
   "metadata": {},
   "outputs": [],
   "source": [
    "with open('LaneData.json','w') as f: \n",
    "    json.dump(lane_list,f)"
   ]
  },
  {
   "cell_type": "code",
   "execution_count": 155,
   "metadata": {},
   "outputs": [],
   "source": [
    "url = 'http://127.0.0.1:8000/addPosition/'\n",
    "f = requests.get(url)\n",
    "\n",
    "cookies = {'csrftoken':'7k3payN2kvwfRNIC6J4o244UHugF1DImabZq8Xp44mLXCZ75Re63Rzdtf1jewvvL'}"
   ]
  },
  {
   "cell_type": "code",
   "execution_count": 188,
   "metadata": {},
   "outputs": [
    {
     "name": "stdout",
     "output_type": "stream",
     "text": [
      "http://127.0.0.1:8000/addPosition/1/47/0/40\n",
      "http://127.0.0.1:8000/addPosition/1/49/55/70\n",
      "http://127.0.0.1:8000/addPosition/2/48/30/100\n",
      "http://127.0.0.1:8000/addPosition/2/50/0/15\n"
     ]
    }
   ],
   "source": [
    "for key, values in lane_list.items():\n",
    "    for k, v in lane_list[key].items():\n",
    "        start = v[0]\n",
    "        end = v[1]\n",
    "        post_url = url + 'addPosition/' + str(key) + '/' + str(k) + '/' + str(start) + '/' + str(end)\n",
    "        print(post_url)"
   ]
  },
  {
   "cell_type": "code",
   "execution_count": 186,
   "metadata": {},
   "outputs": [
    {
     "name": "stdout",
     "output_type": "stream",
     "text": [
      "eev0ebWKNYwLtzasBt8mk9JTtmdnLGqxtoojJSWh1XqXtY09eOtYtTGtzto7lFLB\n",
      "HWyJ0ZpnaFJTWhtx8CIQ0w24lvnUl6kxFchmt5my2MsUk7n6g3WHtXnHwuZshAis\n",
      "psNd63K9DgO7tixgsEZhsr0MtegOuge1rIgL6tVfDpwu2okX0K5VEyP87Wd5MU3w\n",
      "9bGX16ud4YkZI1L03S1jU2UMscOw2f094aXvBEx4aaQtCuMpcAq6JaLrn9T2YFYK\n",
      "JEuTbzKt5m7OIVmzRmAR58OX1Webu4B5w6M3B1I9uc4aAWtMwj9vJvwLNIxHikjS\n"
     ]
    }
   ],
   "source": [
    "url = 'http://127.0.0.1:8000/'\n",
    "client = requests.session()\n",
    "client.get(url)\n",
    "\n",
    "if 'csrftoken' in client.cookies:\n",
    "    csrftoken = client.cookies['csrftoken']\n",
    "    print(csrftoken)\n",
    "\n",
    "data = dict(csrfmiddlewaretoken=csrftoken)\n",
    "\n",
    "for key, values in lane_list.items():\n",
    "    for k, v in lane_list[key].items():\n",
    "        client = requests.session()\n",
    "        client.get(url)\n",
    "\n",
    "        if 'csrftoken' in client.cookies:\n",
    "            csrftoken = client.cookies['csrftoken']\n",
    "            print(csrftoken)\n",
    "\n",
    "        data = dict(csrfmiddlewaretoken=csrftoken)\n",
    "\n",
    "        post_url = url + 'addPosition/' + str(key) + '/' + str(k) + '/' + str(v[0]) + '/' + str(v[1])\n",
    "        client.post(post_url, data=data)"
   ]
  },
  {
   "cell_type": "code",
   "execution_count": null,
   "metadata": {},
   "outputs": [],
   "source": []
  },
  {
   "cell_type": "code",
   "execution_count": null,
   "metadata": {},
   "outputs": [],
   "source": []
  }
 ],
 "metadata": {
  "kernelspec": {
   "display_name": "Python 3",
   "language": "python",
   "name": "python3"
  },
  "language_info": {
   "codemirror_mode": {
    "name": "ipython",
    "version": 3
   },
   "file_extension": ".py",
   "mimetype": "text/x-python",
   "name": "python",
   "nbconvert_exporter": "python",
   "pygments_lexer": "ipython3",
   "version": "3.6.5"
  }
 },
 "nbformat": 4,
 "nbformat_minor": 2
}
